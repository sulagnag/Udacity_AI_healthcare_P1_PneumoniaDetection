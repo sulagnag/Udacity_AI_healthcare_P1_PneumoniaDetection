{
 "cells": [
  {
   "cell_type": "code",
   "execution_count": 1,
   "metadata": {},
   "outputs": [
    {
     "name": "stdout",
     "output_type": "stream",
     "text": [
      "Defaulting to user installation because normal site-packages is not writeable\n",
      "Collecting opencv-python\n",
      "  Downloading opencv_python-4.5.1.48-cp37-cp37m-manylinux2014_x86_64.whl (50.4 MB)\n",
      "\u001b[K     |████████████████████████████████| 50.4 MB 49.8 MB/s eta 0:00:01\n",
      "\u001b[?25hRequirement already satisfied: numpy>=1.14.5 in /opt/conda/lib/python3.7/site-packages (from opencv-python) (1.18.1)\n",
      "Installing collected packages: opencv-python\n",
      "Successfully installed opencv-python-4.5.1.48\n",
      "Note: you may need to restart the kernel to use updated packages.\n"
     ]
    }
   ],
   "source": [
    "pip install opencv-python"
   ]
  },
  {
   "cell_type": "code",
   "execution_count": 1,
   "metadata": {},
   "outputs": [
    {
     "name": "stderr",
     "output_type": "stream",
     "text": [
      "Using TensorFlow backend.\n"
     ]
    }
   ],
   "source": [
    "import numpy as np\n",
    "import pandas as pd\n",
    "import pydicom\n",
    "%matplotlib inline\n",
    "import matplotlib.pyplot as plt\n",
    "import keras \n",
    "import cv2\n",
    "from keras.applications.vgg16 import preprocess_input\n",
    "from keras.models import  model_from_json\n",
    "from keras.utils.vis_utils import plot_model\n"
   ]
  },
  {
   "cell_type": "code",
   "execution_count": 2,
   "metadata": {},
   "outputs": [],
   "source": [
    "# This function reads in a .dcm file, checks the important fields for our device, and returns a numpy array\n",
    "# of just the imaging data\n",
    "def check_dicom(filename): \n",
    "    # todo\n",
    "    \n",
    "    print('Load file {} ...'.format(filename))\n",
    "    ds = pydicom.dcmread(filename)       \n",
    "    img = ds.pixel_array\n",
    "    studydesc=ds.StudyDescription\n",
    "    flag = True\n",
    "    #check headers\n",
    "    \n",
    "    if ds.BodyPartExamined!='CHEST':\n",
    "        print (\"Incorrect body part examined in Diacom. it should be CHEST. it is instead :\",ds.BodyPartExamined)\n",
    "        flag=False\n",
    "    if ds.Modality!='DX':\n",
    "        print (\"Incorrect Modality in Diacom. it should be DX. it is instead :\",ds.Modality)\n",
    "        flag=False\n",
    "    if ds.PatientPosition not in ['AP', 'PA']:\n",
    "        print (\"Incorrect Patient Position in Diacom. it should be AP or PA. it is instead :\",ds.PatientPosition)\n",
    "        flag=False\n",
    "    \n",
    "    if flag :\n",
    "        return img, studydesc\n",
    "    else:\n",
    "        return None, None\n",
    "    \n",
    "    \n",
    "# This function takes the numpy array output by check_dicom and \n",
    "# runs the appropriate pre-processing needed for our model input\n",
    "def preprocess_image(img,img_size): \n",
    "    # todo\n",
    "    b,h,w,c=img_size\n",
    "    proc_img=img.copy()\n",
    "    proc_img = cv2.resize(proc_img,(h,w))\n",
    "    backtorgb = cv2.cvtColor(proc_img,cv2.COLOR_GRAY2RGB)\n",
    "    backtorgb=np.expand_dims(backtorgb,0)\n",
    "    ret=preprocess_input(backtorgb)\n",
    "    \n",
    "    return ret\n",
    "\n",
    "# This function loads in our trained model w/ weights and compiles it \n",
    "def load_model(model_path, weight_path):\n",
    "    # todo\n",
    "    json_file = open(model_path, \"r\") \n",
    "    loaded_model_json = json_file.read() \n",
    "    json_file.close() \n",
    "    my_model = model_from_json(loaded_model_json) \n",
    "    my_model.load_weights(weight_path)\n",
    "    \n",
    "    return my_model\n",
    "\n",
    "# This function uses our device's threshold parameters to predict whether or not\n",
    "# the image shows the presence of pneumonia using our trained model\n",
    "def predict_image(model, img, thresh): \n",
    "    # todo    \n",
    "    pred_y=model.predict(img)\n",
    "    if pred_y[0][0] > thresh:\n",
    "        prediction =\"Pneumonia\"\n",
    "    else :\n",
    "        prediction =\"No Pneumonia\"\n",
    "    return prediction \n"
   ]
  },
  {
   "cell_type": "code",
   "execution_count": 5,
   "metadata": {},
   "outputs": [
    {
     "name": "stdout",
     "output_type": "stream",
     "text": [
      "Load file test1.dcm ...\n",
      "Prediction : No Pneumonia\n",
      "Actual: No Finding\n",
      "Load file test2.dcm ...\n",
      "Prediction : No Pneumonia\n",
      "Actual: Cardiomegaly\n",
      "Load file test3.dcm ...\n",
      "Prediction : Pneumonia\n",
      "Actual: Effusion\n",
      "Load file test4.dcm ...\n",
      "Incorrect body part examined in Diacom. it should be CHEST. it is instead : RIBCAGE\n",
      "Load file test5.dcm ...\n",
      "Incorrect Modality in Diacom. it should be DX. it is instead : CT\n",
      "Load file test6.dcm ...\n",
      "Incorrect Patient Position in Diacom. it should be AP or PA. it is instead : XX\n"
     ]
    }
   ],
   "source": [
    "test_dicoms = ['test1.dcm','test2.dcm','test3.dcm','test4.dcm','test5.dcm','test6.dcm']\n",
    "\n",
    "model_path = \"my_model.json\"\n",
    "weight_path =\"xray_class_my_model.best.hdf5\"\n",
    "\n",
    "IMG_SIZE=(1,224,224,3) # This might be different if you did not use vgg16\n",
    "#my_model = load_model(model_path,weight_path)\n",
    "thresh = 0.522 #loads the threshold they chose for model classification \n",
    "\n",
    "# use the .dcm files to test your prediction\n",
    "for i in test_dicoms:\n",
    "    \n",
    "    img = np.array([])\n",
    "    img,desc = check_dicom(i)\n",
    "  \n",
    "    if img is None:\n",
    "        continue\n",
    "    \n",
    "    img_proc = preprocess_image(img,IMG_SIZE)\n",
    "    \n",
    "    my_model=load_model(model_path,weight_path)\n",
    "    pred = predict_image(my_model,img_proc,thresh)\n",
    "    print(\"Prediction :\",pred)\n",
    "    print(\"Actual:\",desc)\n",
    "    "
   ]
  },
  {
   "cell_type": "code",
   "execution_count": null,
   "metadata": {},
   "outputs": [],
   "source": []
  }
 ],
 "metadata": {
  "kernelspec": {
   "display_name": "Python 3",
   "language": "python",
   "name": "python3"
  },
  "language_info": {
   "codemirror_mode": {
    "name": "ipython",
    "version": 3
   },
   "file_extension": ".py",
   "mimetype": "text/x-python",
   "name": "python",
   "nbconvert_exporter": "python",
   "pygments_lexer": "ipython3",
   "version": "3.7.6"
  }
 },
 "nbformat": 4,
 "nbformat_minor": 2
}
